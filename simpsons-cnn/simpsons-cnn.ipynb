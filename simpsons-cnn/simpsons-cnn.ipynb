{
 "cells": [
  {
   "cell_type": "markdown",
   "id": "7248b289",
   "metadata": {},
   "source": [
    "### Dependencies"
   ]
  },
  {
   "cell_type": "code",
   "execution_count": null,
   "id": "04c34aa8",
   "metadata": {},
   "outputs": [],
   "source": [
    "# File managing\n",
    "import os, zipfile\n",
    "import shutil\n",
    "from pathlib import Path\n",
    "from collections import Counter\n",
    "\n",
    "# Data wrangling and manipulation\n",
    "import pandas as pd\n",
    "import numpy as np\n",
    "import random\n",
    "from tensorflow.keras.preprocessing.image import ImageDataGenerator\n",
    "\n",
    "# CNN\n",
    "import tensorflow as tf\n",
    "from sklearn.utils.class_weight import compute_class_weight\n",
    "from tensorflow.keras.models import Sequential\n",
    "from tensorflow.keras.layers import (Input, Conv2D, BatchNormalization,\n",
    "                                     MaxPooling2D, Dropout,\n",
    "                                     GlobalAveragePooling2D, Dense)\n",
    "from tensorflow.keras.callbacks import EarlyStopping, ModelCheckpoint\n",
    "\n",
    "# Evaluation\n",
    "import plotly.graph_objects as go\n",
    "import plotly.express as px\n",
    "from sklearn.metrics import classification_report, confusion_matrix\n",
    "\n",
    "SEED = 333\n",
    "random.seed(SEED)\n",
    "np.random.seed(SEED)\n",
    "tf.random.set_seed(SEED)"
   ]
  },
  {
   "cell_type": "markdown",
   "id": "01fb7e07",
   "metadata": {},
   "source": [
    "## 01 Data Extraction"
   ]
  },
  {
   "cell_type": "markdown",
   "id": "b47aebac",
   "metadata": {},
   "source": [
    "### Clean Workspace"
   ]
  },
  {
   "cell_type": "code",
   "execution_count": 72,
   "id": "2079a1f7",
   "metadata": {},
   "outputs": [
    {
     "name": "stdout",
     "output_type": "stream",
     "text": [
      "Deleted: ./data/simpsons\n",
      "Does not exist: ./data/simpsons_split\n",
      "Does not exist: ./data/simpsons_top_18\n"
     ]
    }
   ],
   "source": [
    "folders_to_clear = ['./data/simpsons', './data/simpsons_split', './data/simpsons_top_18']\n",
    "\n",
    "for folder in folders_to_clear:\n",
    "    if os.path.exists(folder):\n",
    "        shutil.rmtree(folder)\n",
    "        print(f\"Deleted: {folder}\")\n",
    "    else:\n",
    "        print(f\"Does not exist: {folder}\")\n"
   ]
  },
  {
   "cell_type": "markdown",
   "id": "6d8139d1",
   "metadata": {},
   "source": [
    "### Extract Zip"
   ]
  },
  {
   "cell_type": "code",
   "execution_count": 74,
   "id": "dc329965",
   "metadata": {},
   "outputs": [],
   "source": [
    "ZIP_PATH  = Path(\"data/simpsons.zip\")\n",
    "ROOT_DATA_PATH = Path(\"data/\")\n",
    "DATA_PATH = Path(\"data/simpsons/\")\n",
    "\n",
    "# Unzip \n",
    "if not ROOT_DATA_PATH.exists():\n",
    "    ROOT_DATA_PATH.mkdir(parents=True, exist_ok=True)\n",
    "\n",
    "with zipfile.ZipFile(ZIP_PATH, \"r\") as z:\n",
    "    z.extractall(ROOT_DATA_PATH)"
   ]
  },
  {
   "cell_type": "markdown",
   "id": "6823cf74",
   "metadata": {},
   "source": [
    "### Class Distribution"
   ]
  },
  {
   "cell_type": "code",
   "execution_count": 75,
   "id": "f17ed057",
   "metadata": {},
   "outputs": [
    {
     "name": "stdout",
     "output_type": "stream",
     "text": [
      "homer_simpson: 2246\n",
      "ned_flanders: 1454\n",
      "moe_szyslak: 1452\n",
      "lisa_simpson: 1354\n",
      "bart_simpson: 1342\n",
      "marge_simpson: 1291\n",
      "krusty_the_clown: 1206\n",
      "principal_skinner: 1194\n",
      "charles_montgomery_burns: 1193\n",
      "milhouse_van_houten: 1079\n",
      "chief_wiggum: 986\n",
      "abraham_grampa_simpson: 913\n",
      "sideshow_bob: 877\n",
      "apu_nahasapeemapetilon: 623\n",
      "kent_brockman: 498\n",
      "comic_book_guy: 469\n",
      "edna_krabappel: 457\n",
      "nelson_muntz: 358\n",
      "lenny_leonard: 310\n",
      "mayor_quimby: 246\n",
      "waylon_smithers: 181\n",
      "maggie_simpson: 128\n",
      "groundskeeper_willie: 121\n",
      "barney_gumble: 106\n",
      "selma_bouvier: 103\n",
      "carl_carlson: 98\n",
      "ralph_wiggum: 89\n",
      "patty_bouvier: 72\n",
      "martin_prince: 71\n",
      "professor_john_frink: 65\n",
      "snake_jailbird: 55\n",
      "cletus_spuckler: 47\n",
      "rainier_wolfcastle: 45\n",
      "agnes_skinner: 42\n",
      "sideshow_mel: 40\n",
      "otto_mann: 32\n",
      "fat_tony: 27\n",
      "gil: 27\n",
      "miss_hoover: 17\n",
      "disco_stu: 8\n",
      "troy_mcclure: 8\n",
      "lionel_hutz: 3\n",
      "\n",
      "Top 18 classes: {'lisa_simpson', 'moe_szyslak', 'milhouse_van_houten', 'marge_simpson', 'sideshow_bob', 'apu_nahasapeemapetilon', 'principal_skinner', 'comic_book_guy', 'ned_flanders', 'edna_krabappel', 'abraham_grampa_simpson', 'nelson_muntz', 'kent_brockman', 'bart_simpson', 'chief_wiggum', 'krusty_the_clown', 'homer_simpson', 'charles_montgomery_burns'}\n"
     ]
    }
   ],
   "source": [
    "# read filenames \n",
    "filenames = [f for f in os.listdir(DATA_PATH) if f.endswith(\".jpg\")]\n",
    "\n",
    "# extract character names before _pic\n",
    "classes = [filename.split(\"_pic\")[0] for filename in filenames]\n",
    "\n",
    "# count class distribution\n",
    "class_counts = Counter(classes)\n",
    "\n",
    "# print the distribution\n",
    "for cl, count in class_counts.most_common():\n",
    "    print(f\"{cl}: {count}\")\n",
    "\n",
    "# only get the top 18 classes\n",
    "top_classes = {cl for cl, _ in class_counts.most_common(18)}\n",
    "print(\"\\nTop 18 classes:\", top_classes)"
   ]
  },
  {
   "cell_type": "code",
   "execution_count": 77,
   "id": "c2bab951",
   "metadata": {},
   "outputs": [
    {
     "name": "stdout",
     "output_type": "stream",
     "text": [
      "Total of images in data/simpsons: 20933\n"
     ]
    }
   ],
   "source": [
    "image_count = len([\n",
    "    f for f in os.listdir(DATA_PATH)\n",
    "    if f.lower().endswith((\".jpg\"))\n",
    "])\n",
    "\n",
    "print(f\"Total of images in {DATA_PATH}: {image_count}\")"
   ]
  },
  {
   "cell_type": "markdown",
   "id": "1518e24b",
   "metadata": {},
   "source": [
    "## 02 Data Preparation"
   ]
  },
  {
   "cell_type": "markdown",
   "id": "aee290e2",
   "metadata": {},
   "source": [
    "### Train/Val/Test Split"
   ]
  },
  {
   "cell_type": "code",
   "execution_count": 79,
   "id": "2628587a",
   "metadata": {},
   "outputs": [
    {
     "name": "stdout",
     "output_type": "stream",
     "text": [
      "Train counts: {'abraham_grampa_simpson': 639, 'apu_nahasapeemapetilon': 436, 'bart_simpson': 939, 'charles_montgomery_burns': 835, 'chief_wiggum': 690, 'comic_book_guy': 328, 'edna_krabappel': 319, 'homer_simpson': 1572, 'kent_brockman': 348, 'krusty_the_clown': 844, 'lisa_simpson': 947, 'marge_simpson': 903, 'milhouse_van_houten': 755, 'moe_szyslak': 1016, 'ned_flanders': 1017, 'nelson_muntz': 250, 'principal_skinner': 835, 'sideshow_bob': 613}\n",
      "Val counts: {'abraham_grampa_simpson': 182, 'apu_nahasapeemapetilon': 124, 'bart_simpson': 268, 'charles_montgomery_burns': 238, 'chief_wiggum': 197, 'comic_book_guy': 93, 'edna_krabappel': 91, 'homer_simpson': 449, 'kent_brockman': 99, 'krusty_the_clown': 241, 'lisa_simpson': 270, 'marge_simpson': 258, 'milhouse_van_houten': 215, 'moe_szyslak': 290, 'ned_flanders': 290, 'nelson_muntz': 71, 'principal_skinner': 238, 'sideshow_bob': 175}\n",
      "Test counts: {'abraham_grampa_simpson': 92, 'apu_nahasapeemapetilon': 63, 'bart_simpson': 135, 'charles_montgomery_burns': 120, 'chief_wiggum': 99, 'comic_book_guy': 48, 'edna_krabappel': 47, 'homer_simpson': 225, 'kent_brockman': 51, 'krusty_the_clown': 121, 'lisa_simpson': 137, 'marge_simpson': 130, 'milhouse_van_houten': 109, 'moe_szyslak': 146, 'ned_flanders': 147, 'nelson_muntz': 37, 'principal_skinner': 121, 'sideshow_bob': 89}\n"
     ]
    }
   ],
   "source": [
    "SPLIT_PATH = ROOT_DATA_PATH / \"simpsons_split\"\n",
    "TRAIN_DIR  = SPLIT_PATH / \"train\"\n",
    "VAL_DIR    = SPLIT_PATH / \"val\"\n",
    "TEST_DIR   = SPLIT_PATH / \"test\"\n",
    "\n",
    "random.seed(333)\n",
    "\n",
    "for split_dir in (TRAIN_DIR, VAL_DIR, TEST_DIR):\n",
    "    for cl in top_classes:\n",
    "        (split_dir / cl).mkdir(parents=True, exist_ok=True)\n",
    "\n",
    "if not any((TRAIN_DIR / next(iter(top_classes))).iterdir()):\n",
    "    for cl in top_classes:\n",
    "        cl_files = sorted([f for f in filenames if f.startswith(f\"{cl}_pic\")])\n",
    "        random.shuffle(cl_files)\n",
    "\n",
    "        n_total  = len(cl_files)\n",
    "        n_train  = int(0.70 * n_total)\n",
    "        n_val    = int(0.20 * n_total)\n",
    "\n",
    "        for i, src_name in enumerate(cl_files):\n",
    "            src = DATA_PATH / src_name\n",
    "            if i < n_train:\n",
    "                dst = TRAIN_DIR / cl / src_name\n",
    "            elif i < n_train + n_val:\n",
    "                dst = VAL_DIR / cl / src_name\n",
    "            else:\n",
    "                dst = TEST_DIR / cl / src_name\n",
    "            shutil.copy2(src, dst)\n",
    "\n",
    "def count_per_split(split_dir):\n",
    "    return {cls: len(list((split_dir/cls).iterdir()))\n",
    "            for cls in sorted(top_classes)}\n",
    "\n",
    "print(\"Train counts:\", count_per_split(TRAIN_DIR))\n",
    "print(\"Val counts:\",   count_per_split(VAL_DIR))\n",
    "print(\"Test counts:\",  count_per_split(TEST_DIR))\n"
   ]
  },
  {
   "cell_type": "markdown",
   "id": "702a2ba1",
   "metadata": {},
   "source": [
    "### ImageDataGenerators"
   ]
  },
  {
   "cell_type": "code",
   "execution_count": 84,
   "id": "e57b4be6",
   "metadata": {},
   "outputs": [
    {
     "name": "stdout",
     "output_type": "stream",
     "text": [
      "Found 13286 images belonging to 18 classes.\n",
      "Found 3789 images belonging to 18 classes.\n",
      "Found 1917 images belonging to 18 classes.\n"
     ]
    }
   ],
   "source": [
    "TARGET_SIZE = (128, 192)\n",
    "BATCH_SIZE  = 64\n",
    "\n",
    "dgen_train = ImageDataGenerator(\n",
    "    rescale=1./255,\n",
    "    zoom_range=0.2,\n",
    "    horizontal_flip=True\n",
    ")\n",
    "dgen_val_test = ImageDataGenerator(rescale=1./255)\n",
    "\n",
    "train_generator = dgen_train.flow_from_directory(\n",
    "    TRAIN_DIR,\n",
    "    target_size=TARGET_SIZE,\n",
    "    batch_size=BATCH_SIZE,\n",
    "    class_mode=\"categorical\",\n",
    "    shuffle=True,\n",
    "    seed=SEED\n",
    ")\n",
    "\n",
    "validation_generator = dgen_val_test.flow_from_directory(\n",
    "    VAL_DIR,\n",
    "    target_size=TARGET_SIZE,\n",
    "    batch_size=BATCH_SIZE,\n",
    "    class_mode=\"categorical\",\n",
    "    shuffle=False\n",
    ")\n",
    "\n",
    "test_generator = dgen_val_test.flow_from_directory(\n",
    "    TEST_DIR,\n",
    "    target_size=TARGET_SIZE,\n",
    "    batch_size=BATCH_SIZE,\n",
    "    class_mode=\"categorical\",\n",
    "    shuffle=False\n",
    ")"
   ]
  },
  {
   "cell_type": "markdown",
   "id": "1f88361f",
   "metadata": {},
   "source": [
    "### Calcuate Class Weights"
   ]
  },
  {
   "cell_type": "code",
   "execution_count": 85,
   "id": "19dd1b64",
   "metadata": {},
   "outputs": [
    {
     "name": "stdout",
     "output_type": "stream",
     "text": [
      "{0: 1.1551034602677794, 1: 1.6929153924566769, 2: 0.7860608212045912, 3: 0.8839654025282768, 4: 1.0697262479871175, 5: 2.250338753387534, 6: 2.31382793451759, 7: 0.4695363302233531, 8: 2.121008939974457, 9: 0.8745392311743022, 10: 0.7794203918807932, 11: 0.8173987941429802, 12: 0.9776306107431936, 13: 0.7264873140857393, 14: 0.7257729706107288, 15: 2.9524444444444446, 16: 0.8839654025282768, 17: 1.2040964292187784}\n"
     ]
    }
   ],
   "source": [
    "train_counts = np.array(list(count_per_split(TRAIN_DIR).values()))\n",
    "class_indices = train_generator.class_indices \n",
    "\n",
    "weights = compute_class_weight(\n",
    "    class_weight='balanced',\n",
    "    classes=np.arange(len(class_indices)),\n",
    "    y=np.repeat(\n",
    "        list(class_indices.values()),\n",
    "        train_counts\n",
    "    )\n",
    ")\n",
    "class_weight = dict(enumerate(weights))\n",
    "print(class_weight)"
   ]
  },
  {
   "cell_type": "markdown",
   "id": "4e56f8d5",
   "metadata": {},
   "source": [
    "## 03 Model Architecture"
   ]
  },
  {
   "cell_type": "code",
   "execution_count": 89,
   "id": "062efbc3",
   "metadata": {},
   "outputs": [
    {
     "data": {
      "text/html": [
       "<pre style=\"white-space:pre;overflow-x:auto;line-height:normal;font-family:Menlo,'DejaVu Sans Mono',consolas,'Courier New',monospace\"><span style=\"font-weight: bold\">Model: \"sequential_8\"</span>\n",
       "</pre>\n"
      ],
      "text/plain": [
       "\u001b[1mModel: \"sequential_8\"\u001b[0m\n"
      ]
     },
     "metadata": {},
     "output_type": "display_data"
    },
    {
     "data": {
      "text/html": [
       "<pre style=\"white-space:pre;overflow-x:auto;line-height:normal;font-family:Menlo,'DejaVu Sans Mono',consolas,'Courier New',monospace\">┏━━━━━━━━━━━━━━━━━━━━━━━━━━━━━━━━━┳━━━━━━━━━━━━━━━━━━━━━━━━┳━━━━━━━━━━━━━━━┓\n",
       "┃<span style=\"font-weight: bold\"> Layer (type)                    </span>┃<span style=\"font-weight: bold\"> Output Shape           </span>┃<span style=\"font-weight: bold\">       Param # </span>┃\n",
       "┡━━━━━━━━━━━━━━━━━━━━━━━━━━━━━━━━━╇━━━━━━━━━━━━━━━━━━━━━━━━╇━━━━━━━━━━━━━━━┩\n",
       "│ conv2d_57 (<span style=\"color: #0087ff; text-decoration-color: #0087ff\">Conv2D</span>)              │ (<span style=\"color: #00d7ff; text-decoration-color: #00d7ff\">None</span>, <span style=\"color: #00af00; text-decoration-color: #00af00\">128</span>, <span style=\"color: #00af00; text-decoration-color: #00af00\">192</span>, <span style=\"color: #00af00; text-decoration-color: #00af00\">32</span>)   │           <span style=\"color: #00af00; text-decoration-color: #00af00\">896</span> │\n",
       "├─────────────────────────────────┼────────────────────────┼───────────────┤\n",
       "│ batch_normalization_36          │ (<span style=\"color: #00d7ff; text-decoration-color: #00d7ff\">None</span>, <span style=\"color: #00af00; text-decoration-color: #00af00\">128</span>, <span style=\"color: #00af00; text-decoration-color: #00af00\">192</span>, <span style=\"color: #00af00; text-decoration-color: #00af00\">32</span>)   │           <span style=\"color: #00af00; text-decoration-color: #00af00\">128</span> │\n",
       "│ (<span style=\"color: #0087ff; text-decoration-color: #0087ff\">BatchNormalization</span>)            │                        │               │\n",
       "├─────────────────────────────────┼────────────────────────┼───────────────┤\n",
       "│ conv2d_58 (<span style=\"color: #0087ff; text-decoration-color: #0087ff\">Conv2D</span>)              │ (<span style=\"color: #00d7ff; text-decoration-color: #00d7ff\">None</span>, <span style=\"color: #00af00; text-decoration-color: #00af00\">128</span>, <span style=\"color: #00af00; text-decoration-color: #00af00\">192</span>, <span style=\"color: #00af00; text-decoration-color: #00af00\">32</span>)   │         <span style=\"color: #00af00; text-decoration-color: #00af00\">9,248</span> │\n",
       "├─────────────────────────────────┼────────────────────────┼───────────────┤\n",
       "│ max_pooling2d_36 (<span style=\"color: #0087ff; text-decoration-color: #0087ff\">MaxPooling2D</span>) │ (<span style=\"color: #00d7ff; text-decoration-color: #00d7ff\">None</span>, <span style=\"color: #00af00; text-decoration-color: #00af00\">64</span>, <span style=\"color: #00af00; text-decoration-color: #00af00\">96</span>, <span style=\"color: #00af00; text-decoration-color: #00af00\">32</span>)     │             <span style=\"color: #00af00; text-decoration-color: #00af00\">0</span> │\n",
       "├─────────────────────────────────┼────────────────────────┼───────────────┤\n",
       "│ dropout_29 (<span style=\"color: #0087ff; text-decoration-color: #0087ff\">Dropout</span>)            │ (<span style=\"color: #00d7ff; text-decoration-color: #00d7ff\">None</span>, <span style=\"color: #00af00; text-decoration-color: #00af00\">64</span>, <span style=\"color: #00af00; text-decoration-color: #00af00\">96</span>, <span style=\"color: #00af00; text-decoration-color: #00af00\">32</span>)     │             <span style=\"color: #00af00; text-decoration-color: #00af00\">0</span> │\n",
       "├─────────────────────────────────┼────────────────────────┼───────────────┤\n",
       "│ conv2d_59 (<span style=\"color: #0087ff; text-decoration-color: #0087ff\">Conv2D</span>)              │ (<span style=\"color: #00d7ff; text-decoration-color: #00d7ff\">None</span>, <span style=\"color: #00af00; text-decoration-color: #00af00\">64</span>, <span style=\"color: #00af00; text-decoration-color: #00af00\">96</span>, <span style=\"color: #00af00; text-decoration-color: #00af00\">64</span>)     │        <span style=\"color: #00af00; text-decoration-color: #00af00\">18,496</span> │\n",
       "├─────────────────────────────────┼────────────────────────┼───────────────┤\n",
       "│ batch_normalization_37          │ (<span style=\"color: #00d7ff; text-decoration-color: #00d7ff\">None</span>, <span style=\"color: #00af00; text-decoration-color: #00af00\">64</span>, <span style=\"color: #00af00; text-decoration-color: #00af00\">96</span>, <span style=\"color: #00af00; text-decoration-color: #00af00\">64</span>)     │           <span style=\"color: #00af00; text-decoration-color: #00af00\">256</span> │\n",
       "│ (<span style=\"color: #0087ff; text-decoration-color: #0087ff\">BatchNormalization</span>)            │                        │               │\n",
       "├─────────────────────────────────┼────────────────────────┼───────────────┤\n",
       "│ conv2d_60 (<span style=\"color: #0087ff; text-decoration-color: #0087ff\">Conv2D</span>)              │ (<span style=\"color: #00d7ff; text-decoration-color: #00d7ff\">None</span>, <span style=\"color: #00af00; text-decoration-color: #00af00\">64</span>, <span style=\"color: #00af00; text-decoration-color: #00af00\">96</span>, <span style=\"color: #00af00; text-decoration-color: #00af00\">64</span>)     │        <span style=\"color: #00af00; text-decoration-color: #00af00\">36,928</span> │\n",
       "├─────────────────────────────────┼────────────────────────┼───────────────┤\n",
       "│ max_pooling2d_37 (<span style=\"color: #0087ff; text-decoration-color: #0087ff\">MaxPooling2D</span>) │ (<span style=\"color: #00d7ff; text-decoration-color: #00d7ff\">None</span>, <span style=\"color: #00af00; text-decoration-color: #00af00\">32</span>, <span style=\"color: #00af00; text-decoration-color: #00af00\">48</span>, <span style=\"color: #00af00; text-decoration-color: #00af00\">64</span>)     │             <span style=\"color: #00af00; text-decoration-color: #00af00\">0</span> │\n",
       "├─────────────────────────────────┼────────────────────────┼───────────────┤\n",
       "│ dropout_30 (<span style=\"color: #0087ff; text-decoration-color: #0087ff\">Dropout</span>)            │ (<span style=\"color: #00d7ff; text-decoration-color: #00d7ff\">None</span>, <span style=\"color: #00af00; text-decoration-color: #00af00\">32</span>, <span style=\"color: #00af00; text-decoration-color: #00af00\">48</span>, <span style=\"color: #00af00; text-decoration-color: #00af00\">64</span>)     │             <span style=\"color: #00af00; text-decoration-color: #00af00\">0</span> │\n",
       "├─────────────────────────────────┼────────────────────────┼───────────────┤\n",
       "│ conv2d_61 (<span style=\"color: #0087ff; text-decoration-color: #0087ff\">Conv2D</span>)              │ (<span style=\"color: #00d7ff; text-decoration-color: #00d7ff\">None</span>, <span style=\"color: #00af00; text-decoration-color: #00af00\">32</span>, <span style=\"color: #00af00; text-decoration-color: #00af00\">48</span>, <span style=\"color: #00af00; text-decoration-color: #00af00\">128</span>)    │        <span style=\"color: #00af00; text-decoration-color: #00af00\">73,856</span> │\n",
       "├─────────────────────────────────┼────────────────────────┼───────────────┤\n",
       "│ batch_normalization_38          │ (<span style=\"color: #00d7ff; text-decoration-color: #00d7ff\">None</span>, <span style=\"color: #00af00; text-decoration-color: #00af00\">32</span>, <span style=\"color: #00af00; text-decoration-color: #00af00\">48</span>, <span style=\"color: #00af00; text-decoration-color: #00af00\">128</span>)    │           <span style=\"color: #00af00; text-decoration-color: #00af00\">512</span> │\n",
       "│ (<span style=\"color: #0087ff; text-decoration-color: #0087ff\">BatchNormalization</span>)            │                        │               │\n",
       "├─────────────────────────────────┼────────────────────────┼───────────────┤\n",
       "│ conv2d_62 (<span style=\"color: #0087ff; text-decoration-color: #0087ff\">Conv2D</span>)              │ (<span style=\"color: #00d7ff; text-decoration-color: #00d7ff\">None</span>, <span style=\"color: #00af00; text-decoration-color: #00af00\">32</span>, <span style=\"color: #00af00; text-decoration-color: #00af00\">48</span>, <span style=\"color: #00af00; text-decoration-color: #00af00\">128</span>)    │       <span style=\"color: #00af00; text-decoration-color: #00af00\">147,584</span> │\n",
       "├─────────────────────────────────┼────────────────────────┼───────────────┤\n",
       "│ max_pooling2d_38 (<span style=\"color: #0087ff; text-decoration-color: #0087ff\">MaxPooling2D</span>) │ (<span style=\"color: #00d7ff; text-decoration-color: #00d7ff\">None</span>, <span style=\"color: #00af00; text-decoration-color: #00af00\">16</span>, <span style=\"color: #00af00; text-decoration-color: #00af00\">24</span>, <span style=\"color: #00af00; text-decoration-color: #00af00\">128</span>)    │             <span style=\"color: #00af00; text-decoration-color: #00af00\">0</span> │\n",
       "├─────────────────────────────────┼────────────────────────┼───────────────┤\n",
       "│ dropout_31 (<span style=\"color: #0087ff; text-decoration-color: #0087ff\">Dropout</span>)            │ (<span style=\"color: #00d7ff; text-decoration-color: #00d7ff\">None</span>, <span style=\"color: #00af00; text-decoration-color: #00af00\">16</span>, <span style=\"color: #00af00; text-decoration-color: #00af00\">24</span>, <span style=\"color: #00af00; text-decoration-color: #00af00\">128</span>)    │             <span style=\"color: #00af00; text-decoration-color: #00af00\">0</span> │\n",
       "├─────────────────────────────────┼────────────────────────┼───────────────┤\n",
       "│ global_average_pooling2d_3      │ (<span style=\"color: #00d7ff; text-decoration-color: #00d7ff\">None</span>, <span style=\"color: #00af00; text-decoration-color: #00af00\">128</span>)            │             <span style=\"color: #00af00; text-decoration-color: #00af00\">0</span> │\n",
       "│ (<span style=\"color: #0087ff; text-decoration-color: #0087ff\">GlobalAveragePooling2D</span>)        │                        │               │\n",
       "├─────────────────────────────────┼────────────────────────┼───────────────┤\n",
       "│ dense_16 (<span style=\"color: #0087ff; text-decoration-color: #0087ff\">Dense</span>)                │ (<span style=\"color: #00d7ff; text-decoration-color: #00d7ff\">None</span>, <span style=\"color: #00af00; text-decoration-color: #00af00\">256</span>)            │        <span style=\"color: #00af00; text-decoration-color: #00af00\">33,024</span> │\n",
       "├─────────────────────────────────┼────────────────────────┼───────────────┤\n",
       "│ dropout_32 (<span style=\"color: #0087ff; text-decoration-color: #0087ff\">Dropout</span>)            │ (<span style=\"color: #00d7ff; text-decoration-color: #00d7ff\">None</span>, <span style=\"color: #00af00; text-decoration-color: #00af00\">256</span>)            │             <span style=\"color: #00af00; text-decoration-color: #00af00\">0</span> │\n",
       "├─────────────────────────────────┼────────────────────────┼───────────────┤\n",
       "│ dense_17 (<span style=\"color: #0087ff; text-decoration-color: #0087ff\">Dense</span>)                │ (<span style=\"color: #00d7ff; text-decoration-color: #00d7ff\">None</span>, <span style=\"color: #00af00; text-decoration-color: #00af00\">18</span>)             │         <span style=\"color: #00af00; text-decoration-color: #00af00\">4,626</span> │\n",
       "└─────────────────────────────────┴────────────────────────┴───────────────┘\n",
       "</pre>\n"
      ],
      "text/plain": [
       "┏━━━━━━━━━━━━━━━━━━━━━━━━━━━━━━━━━┳━━━━━━━━━━━━━━━━━━━━━━━━┳━━━━━━━━━━━━━━━┓\n",
       "┃\u001b[1m \u001b[0m\u001b[1mLayer (type)                   \u001b[0m\u001b[1m \u001b[0m┃\u001b[1m \u001b[0m\u001b[1mOutput Shape          \u001b[0m\u001b[1m \u001b[0m┃\u001b[1m \u001b[0m\u001b[1m      Param #\u001b[0m\u001b[1m \u001b[0m┃\n",
       "┡━━━━━━━━━━━━━━━━━━━━━━━━━━━━━━━━━╇━━━━━━━━━━━━━━━━━━━━━━━━╇━━━━━━━━━━━━━━━┩\n",
       "│ conv2d_57 (\u001b[38;5;33mConv2D\u001b[0m)              │ (\u001b[38;5;45mNone\u001b[0m, \u001b[38;5;34m128\u001b[0m, \u001b[38;5;34m192\u001b[0m, \u001b[38;5;34m32\u001b[0m)   │           \u001b[38;5;34m896\u001b[0m │\n",
       "├─────────────────────────────────┼────────────────────────┼───────────────┤\n",
       "│ batch_normalization_36          │ (\u001b[38;5;45mNone\u001b[0m, \u001b[38;5;34m128\u001b[0m, \u001b[38;5;34m192\u001b[0m, \u001b[38;5;34m32\u001b[0m)   │           \u001b[38;5;34m128\u001b[0m │\n",
       "│ (\u001b[38;5;33mBatchNormalization\u001b[0m)            │                        │               │\n",
       "├─────────────────────────────────┼────────────────────────┼───────────────┤\n",
       "│ conv2d_58 (\u001b[38;5;33mConv2D\u001b[0m)              │ (\u001b[38;5;45mNone\u001b[0m, \u001b[38;5;34m128\u001b[0m, \u001b[38;5;34m192\u001b[0m, \u001b[38;5;34m32\u001b[0m)   │         \u001b[38;5;34m9,248\u001b[0m │\n",
       "├─────────────────────────────────┼────────────────────────┼───────────────┤\n",
       "│ max_pooling2d_36 (\u001b[38;5;33mMaxPooling2D\u001b[0m) │ (\u001b[38;5;45mNone\u001b[0m, \u001b[38;5;34m64\u001b[0m, \u001b[38;5;34m96\u001b[0m, \u001b[38;5;34m32\u001b[0m)     │             \u001b[38;5;34m0\u001b[0m │\n",
       "├─────────────────────────────────┼────────────────────────┼───────────────┤\n",
       "│ dropout_29 (\u001b[38;5;33mDropout\u001b[0m)            │ (\u001b[38;5;45mNone\u001b[0m, \u001b[38;5;34m64\u001b[0m, \u001b[38;5;34m96\u001b[0m, \u001b[38;5;34m32\u001b[0m)     │             \u001b[38;5;34m0\u001b[0m │\n",
       "├─────────────────────────────────┼────────────────────────┼───────────────┤\n",
       "│ conv2d_59 (\u001b[38;5;33mConv2D\u001b[0m)              │ (\u001b[38;5;45mNone\u001b[0m, \u001b[38;5;34m64\u001b[0m, \u001b[38;5;34m96\u001b[0m, \u001b[38;5;34m64\u001b[0m)     │        \u001b[38;5;34m18,496\u001b[0m │\n",
       "├─────────────────────────────────┼────────────────────────┼───────────────┤\n",
       "│ batch_normalization_37          │ (\u001b[38;5;45mNone\u001b[0m, \u001b[38;5;34m64\u001b[0m, \u001b[38;5;34m96\u001b[0m, \u001b[38;5;34m64\u001b[0m)     │           \u001b[38;5;34m256\u001b[0m │\n",
       "│ (\u001b[38;5;33mBatchNormalization\u001b[0m)            │                        │               │\n",
       "├─────────────────────────────────┼────────────────────────┼───────────────┤\n",
       "│ conv2d_60 (\u001b[38;5;33mConv2D\u001b[0m)              │ (\u001b[38;5;45mNone\u001b[0m, \u001b[38;5;34m64\u001b[0m, \u001b[38;5;34m96\u001b[0m, \u001b[38;5;34m64\u001b[0m)     │        \u001b[38;5;34m36,928\u001b[0m │\n",
       "├─────────────────────────────────┼────────────────────────┼───────────────┤\n",
       "│ max_pooling2d_37 (\u001b[38;5;33mMaxPooling2D\u001b[0m) │ (\u001b[38;5;45mNone\u001b[0m, \u001b[38;5;34m32\u001b[0m, \u001b[38;5;34m48\u001b[0m, \u001b[38;5;34m64\u001b[0m)     │             \u001b[38;5;34m0\u001b[0m │\n",
       "├─────────────────────────────────┼────────────────────────┼───────────────┤\n",
       "│ dropout_30 (\u001b[38;5;33mDropout\u001b[0m)            │ (\u001b[38;5;45mNone\u001b[0m, \u001b[38;5;34m32\u001b[0m, \u001b[38;5;34m48\u001b[0m, \u001b[38;5;34m64\u001b[0m)     │             \u001b[38;5;34m0\u001b[0m │\n",
       "├─────────────────────────────────┼────────────────────────┼───────────────┤\n",
       "│ conv2d_61 (\u001b[38;5;33mConv2D\u001b[0m)              │ (\u001b[38;5;45mNone\u001b[0m, \u001b[38;5;34m32\u001b[0m, \u001b[38;5;34m48\u001b[0m, \u001b[38;5;34m128\u001b[0m)    │        \u001b[38;5;34m73,856\u001b[0m │\n",
       "├─────────────────────────────────┼────────────────────────┼───────────────┤\n",
       "│ batch_normalization_38          │ (\u001b[38;5;45mNone\u001b[0m, \u001b[38;5;34m32\u001b[0m, \u001b[38;5;34m48\u001b[0m, \u001b[38;5;34m128\u001b[0m)    │           \u001b[38;5;34m512\u001b[0m │\n",
       "│ (\u001b[38;5;33mBatchNormalization\u001b[0m)            │                        │               │\n",
       "├─────────────────────────────────┼────────────────────────┼───────────────┤\n",
       "│ conv2d_62 (\u001b[38;5;33mConv2D\u001b[0m)              │ (\u001b[38;5;45mNone\u001b[0m, \u001b[38;5;34m32\u001b[0m, \u001b[38;5;34m48\u001b[0m, \u001b[38;5;34m128\u001b[0m)    │       \u001b[38;5;34m147,584\u001b[0m │\n",
       "├─────────────────────────────────┼────────────────────────┼───────────────┤\n",
       "│ max_pooling2d_38 (\u001b[38;5;33mMaxPooling2D\u001b[0m) │ (\u001b[38;5;45mNone\u001b[0m, \u001b[38;5;34m16\u001b[0m, \u001b[38;5;34m24\u001b[0m, \u001b[38;5;34m128\u001b[0m)    │             \u001b[38;5;34m0\u001b[0m │\n",
       "├─────────────────────────────────┼────────────────────────┼───────────────┤\n",
       "│ dropout_31 (\u001b[38;5;33mDropout\u001b[0m)            │ (\u001b[38;5;45mNone\u001b[0m, \u001b[38;5;34m16\u001b[0m, \u001b[38;5;34m24\u001b[0m, \u001b[38;5;34m128\u001b[0m)    │             \u001b[38;5;34m0\u001b[0m │\n",
       "├─────────────────────────────────┼────────────────────────┼───────────────┤\n",
       "│ global_average_pooling2d_3      │ (\u001b[38;5;45mNone\u001b[0m, \u001b[38;5;34m128\u001b[0m)            │             \u001b[38;5;34m0\u001b[0m │\n",
       "│ (\u001b[38;5;33mGlobalAveragePooling2D\u001b[0m)        │                        │               │\n",
       "├─────────────────────────────────┼────────────────────────┼───────────────┤\n",
       "│ dense_16 (\u001b[38;5;33mDense\u001b[0m)                │ (\u001b[38;5;45mNone\u001b[0m, \u001b[38;5;34m256\u001b[0m)            │        \u001b[38;5;34m33,024\u001b[0m │\n",
       "├─────────────────────────────────┼────────────────────────┼───────────────┤\n",
       "│ dropout_32 (\u001b[38;5;33mDropout\u001b[0m)            │ (\u001b[38;5;45mNone\u001b[0m, \u001b[38;5;34m256\u001b[0m)            │             \u001b[38;5;34m0\u001b[0m │\n",
       "├─────────────────────────────────┼────────────────────────┼───────────────┤\n",
       "│ dense_17 (\u001b[38;5;33mDense\u001b[0m)                │ (\u001b[38;5;45mNone\u001b[0m, \u001b[38;5;34m18\u001b[0m)             │         \u001b[38;5;34m4,626\u001b[0m │\n",
       "└─────────────────────────────────┴────────────────────────┴───────────────┘\n"
      ]
     },
     "metadata": {},
     "output_type": "display_data"
    },
    {
     "data": {
      "text/html": [
       "<pre style=\"white-space:pre;overflow-x:auto;line-height:normal;font-family:Menlo,'DejaVu Sans Mono',consolas,'Courier New',monospace\"><span style=\"font-weight: bold\"> Total params: </span><span style=\"color: #00af00; text-decoration-color: #00af00\">325,554</span> (1.24 MB)\n",
       "</pre>\n"
      ],
      "text/plain": [
       "\u001b[1m Total params: \u001b[0m\u001b[38;5;34m325,554\u001b[0m (1.24 MB)\n"
      ]
     },
     "metadata": {},
     "output_type": "display_data"
    },
    {
     "data": {
      "text/html": [
       "<pre style=\"white-space:pre;overflow-x:auto;line-height:normal;font-family:Menlo,'DejaVu Sans Mono',consolas,'Courier New',monospace\"><span style=\"font-weight: bold\"> Trainable params: </span><span style=\"color: #00af00; text-decoration-color: #00af00\">325,106</span> (1.24 MB)\n",
       "</pre>\n"
      ],
      "text/plain": [
       "\u001b[1m Trainable params: \u001b[0m\u001b[38;5;34m325,106\u001b[0m (1.24 MB)\n"
      ]
     },
     "metadata": {},
     "output_type": "display_data"
    },
    {
     "data": {
      "text/html": [
       "<pre style=\"white-space:pre;overflow-x:auto;line-height:normal;font-family:Menlo,'DejaVu Sans Mono',consolas,'Courier New',monospace\"><span style=\"font-weight: bold\"> Non-trainable params: </span><span style=\"color: #00af00; text-decoration-color: #00af00\">448</span> (1.75 KB)\n",
       "</pre>\n"
      ],
      "text/plain": [
       "\u001b[1m Non-trainable params: \u001b[0m\u001b[38;5;34m448\u001b[0m (1.75 KB)\n"
      ]
     },
     "metadata": {},
     "output_type": "display_data"
    }
   ],
   "source": [
    "IMG_SIZE = TARGET_SIZE\n",
    "INPUT_SHAPE  = (*IMG_SIZE, 3)\n",
    "NUM_CLASSES  = train_generator.num_classes\n",
    "\n",
    "# define layers\n",
    "model = Sequential([\n",
    "    Input(shape=INPUT_SHAPE),\n",
    "\n",
    "    # First Convolutional Block\n",
    "    Conv2D(32, (3, 3), activation='relu', padding='same'),\n",
    "    BatchNormalization(),\n",
    "    Conv2D(32, (3, 3), activation='sigmoid', padding='same'),\n",
    "    MaxPooling2D(),\n",
    "    Dropout(0.25),\n",
    "\n",
    "    # Second Convolutional Block\n",
    "    Conv2D(64, (3, 3), activation='relu', padding='same'),\n",
    "    BatchNormalization(),\n",
    "    Conv2D(64, (3, 3), activation='sigmoid', padding='same'),\n",
    "    MaxPooling2D(),\n",
    "    Dropout(0.25),\n",
    "\n",
    "    # Third  Convolutional Block\n",
    "    Conv2D(128, (3, 3), activation='relu', padding='same'),\n",
    "    BatchNormalization(),\n",
    "    Conv2D(128, (3, 3), activation='sigmoid', padding='same'),\n",
    "    MaxPooling2D(),\n",
    "    Dropout(0.25),\n",
    "\n",
    "    #  Dense classifier layer\n",
    "    GlobalAveragePooling2D(),\n",
    "    Dense(256, activation='relu'),\n",
    "    Dropout(0.5),\n",
    "    Dense(NUM_CLASSES, activation='softmax', dtype='float32')  # evita underflow si usas mixed precision\n",
    "])\n",
    "\n",
    "# optimizer and loss function setup\n",
    "model.compile(\n",
    "    optimizer='adam',\n",
    "    loss='categorical_crossentropy',\n",
    "    metrics=['accuracy']\n",
    ")\n",
    "\n",
    "# define training callbacks\n",
    "callbacks = [\n",
    "    EarlyStopping(\n",
    "        monitor='val_loss',\n",
    "        patience=3,\n",
    "        restore_best_weights=True,\n",
    "        verbose=1\n",
    "    ),\n",
    "    ModelCheckpoint(\n",
    "        filepath= 'models/best_model_{epoch:02d}-{val_accuracy:.3f}.keras',\n",
    "        save_best_only=True,\n",
    "        monitor='val_loss',\n",
    "        verbose=1\n",
    "    )\n",
    "]\n",
    "\n",
    "model.summary()"
   ]
  },
  {
   "cell_type": "markdown",
   "id": "66e62462",
   "metadata": {},
   "source": [
    "## 04 CNN training"
   ]
  },
  {
   "cell_type": "code",
   "execution_count": null,
   "id": "e99f5312",
   "metadata": {},
   "outputs": [
    {
     "name": "stdout",
     "output_type": "stream",
     "text": [
      "Epoch 1/50\n",
      "\u001b[1m 10/208\u001b[0m \u001b[37m━━━━━━━━━━━━━━━━━━━━\u001b[0m \u001b[1m8:12\u001b[0m 2s/step - accuracy: 0.1440 - loss: 2.6004"
     ]
    }
   ],
   "source": [
    "history = model.fit(\n",
    "    train_generator,\n",
    "    epochs=50,\n",
    "    validation_data=validation_generator,\n",
    "    class_weight=class_weight,\n",
    "    callbacks=callbacks\n",
    ")"
   ]
  },
  {
   "cell_type": "code",
   "execution_count": null,
   "id": "53c616ec",
   "metadata": {},
   "outputs": [],
   "source": [
    "# Loss\n",
    "fig_loss = go.Figure()\n",
    "fig_loss.add_scatter(\n",
    "    y=history.history[\"loss\"],\n",
    "    mode=\"lines+markers\",\n",
    "    name=\"Train loss\"\n",
    ")\n",
    "fig_loss.add_scatter(\n",
    "    y=history.history[\"val_loss\"],\n",
    "    mode=\"lines+markers\",\n",
    "    name=\"Val loss\"\n",
    ")\n",
    "fig_loss.update_layout(\n",
    "    title=\"Loss over epochs\",\n",
    "    xaxis_title=\"Epoch\",\n",
    "    yaxis_title=\"Loss\"\n",
    ")\n",
    "fig_loss.show()\n",
    "\n",
    "# Accuracy\n",
    "fig_acc = go.Figure()\n",
    "fig_acc.add_scatter(\n",
    "    y=history.history[\"accuracy\"],\n",
    "    mode=\"lines+markers\",\n",
    "    name=\"Train accuracy\"\n",
    ")\n",
    "fig_acc.add_scatter(\n",
    "    y=history.history[\"val_accuracy\"],\n",
    "    mode=\"lines+markers\",\n",
    "    name=\"Val accuracy\"\n",
    ")\n",
    "fig_acc.update_layout(\n",
    "    title=\"Accuracy over epochs\",\n",
    "    xaxis_title=\"Epoch\",\n",
    "    yaxis_title=\"Accuracy\"\n",
    ")\n",
    "fig_acc.show()"
   ]
  },
  {
   "cell_type": "markdown",
   "id": "44e327f2",
   "metadata": {},
   "source": [
    "## 05 Model Evaluation"
   ]
  },
  {
   "cell_type": "code",
   "execution_count": null,
   "id": "631170bf",
   "metadata": {},
   "outputs": [],
   "source": [
    "y_true       = test_generator.classes\n",
    "y_pred_prob  = model.predict(test_generator, verbose=0)\n",
    "y_pred       = np.argmax(y_pred_prob, axis=1)\n",
    "\n",
    "# Classification Report\n",
    "class_names = list(test_generator.class_indices.keys())\n",
    "print(classification_report(\n",
    "    y_true, y_pred, target_names=class_names, digits=2))\n",
    "\n",
    "\n",
    "cm = confusion_matrix(y_true, y_pred, normalize=\"true\") * 100 \n",
    "fig_cm = px.imshow(\n",
    "    cm,\n",
    "    text_auto=\".1f\",\n",
    "    color_continuous_scale=\"Viridis\",\n",
    "    x=class_names, y=class_names,\n",
    "    labels=dict(x=\"Predicted\", y=\"Actual\", color=\"% correct\")\n",
    ")\n",
    "fig_cm.update_layout(\n",
    "    title=\"Normalized Confusion Matrix (%)\",\n",
    "    xaxis_side=\"top\",        # predicciones arriba\n",
    "    yaxis_dtick=1, xaxis_dtick=1\n",
    ")\n",
    "fig_cm.show()"
   ]
  }
 ],
 "metadata": {
  "kernelspec": {
   "display_name": "UNAM_diplomado",
   "language": "python",
   "name": "python3"
  },
  "language_info": {
   "codemirror_mode": {
    "name": "ipython",
    "version": 3
   },
   "file_extension": ".py",
   "mimetype": "text/x-python",
   "name": "python",
   "nbconvert_exporter": "python",
   "pygments_lexer": "ipython3",
   "version": "3.12.4"
  }
 },
 "nbformat": 4,
 "nbformat_minor": 5
}
